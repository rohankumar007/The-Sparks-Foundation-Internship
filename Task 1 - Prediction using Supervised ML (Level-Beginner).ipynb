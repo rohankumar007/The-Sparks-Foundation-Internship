{
 "cells": [
  {
   "cell_type": "markdown",
   "id": "catholic-bikini",
   "metadata": {},
   "source": [
    "# ROHAN KUMAR"
   ]
  },
  {
   "cell_type": "markdown",
   "id": "together-kernel",
   "metadata": {},
   "source": [
    "# The Sparks Foundation Internship for Data Science\n",
    "### Data Science & Business Analytics Tasks\n",
    "\n",
    "## Prediction using Supervised ML (Level - Beginner)\n",
    "In this regression task we will predict the percentage of marks that a student is expected to score based upon the number of hours they studied. This is a simple linear regression task as it involves just two variables(one independent and one dependent)."
   ]
  },
  {
   "cell_type": "markdown",
   "id": "composed-consolidation",
   "metadata": {},
   "source": [
    "### Importing Necessary Libraries"
   ]
  },
  {
   "cell_type": "code",
   "execution_count": 1,
   "id": "stylish-criterion",
   "metadata": {},
   "outputs": [],
   "source": [
    "import pandas as pd\n",
    "import numpy as np\n",
    "import matplotlib.pyplot as plt\n",
    "%matplotlib inline\n",
    "\n",
    "# train and test split\n",
    "from sklearn.model_selection import train_test_split\n",
    "\n",
    "# some models from Scikit library\n",
    "from sklearn.linear_model import LinearRegression\n",
    "\n",
    "# some of the metrics for model's evaluation\n",
    "from sklearn.metrics import max_error\n",
    "from sklearn.metrics import mean_absolute_error\n",
    "from sklearn.metrics import mean_squared_error"
   ]
  },
  {
   "cell_type": "markdown",
   "id": "incredible-russia",
   "metadata": {},
   "source": [
    "# Importing Dataset"
   ]
  },
  {
   "cell_type": "code",
   "execution_count": 2,
   "id": "working-superintendent",
   "metadata": {},
   "outputs": [],
   "source": [
    "url = \"https://raw.githubusercontent.com/AdiPersonalWorks/Random/master/student_scores%20-%20student_scores.csv\"\n",
    "data = pd.read_csv(url)"
   ]
  },
  {
   "cell_type": "code",
   "execution_count": 3,
   "id": "demonstrated-mayor",
   "metadata": {},
   "outputs": [
    {
     "data": {
      "text/html": [
       "<div>\n",
       "<style scoped>\n",
       "    .dataframe tbody tr th:only-of-type {\n",
       "        vertical-align: middle;\n",
       "    }\n",
       "\n",
       "    .dataframe tbody tr th {\n",
       "        vertical-align: top;\n",
       "    }\n",
       "\n",
       "    .dataframe thead th {\n",
       "        text-align: right;\n",
       "    }\n",
       "</style>\n",
       "<table border=\"1\" class=\"dataframe\">\n",
       "  <thead>\n",
       "    <tr style=\"text-align: right;\">\n",
       "      <th></th>\n",
       "      <th>Hours</th>\n",
       "      <th>Scores</th>\n",
       "    </tr>\n",
       "  </thead>\n",
       "  <tbody>\n",
       "    <tr>\n",
       "      <th>0</th>\n",
       "      <td>2.5</td>\n",
       "      <td>21</td>\n",
       "    </tr>\n",
       "    <tr>\n",
       "      <th>1</th>\n",
       "      <td>5.1</td>\n",
       "      <td>47</td>\n",
       "    </tr>\n",
       "    <tr>\n",
       "      <th>2</th>\n",
       "      <td>3.2</td>\n",
       "      <td>27</td>\n",
       "    </tr>\n",
       "    <tr>\n",
       "      <th>3</th>\n",
       "      <td>8.5</td>\n",
       "      <td>75</td>\n",
       "    </tr>\n",
       "    <tr>\n",
       "      <th>4</th>\n",
       "      <td>3.5</td>\n",
       "      <td>30</td>\n",
       "    </tr>\n",
       "  </tbody>\n",
       "</table>\n",
       "</div>"
      ],
      "text/plain": [
       "   Hours  Scores\n",
       "0    2.5      21\n",
       "1    5.1      47\n",
       "2    3.2      27\n",
       "3    8.5      75\n",
       "4    3.5      30"
      ]
     },
     "execution_count": 3,
     "metadata": {},
     "output_type": "execute_result"
    }
   ],
   "source": [
    "data.head()"
   ]
  },
  {
   "cell_type": "code",
   "execution_count": 4,
   "id": "surgical-tourist",
   "metadata": {},
   "outputs": [
    {
     "name": "stdout",
     "output_type": "stream",
     "text": [
      "<class 'pandas.core.frame.DataFrame'>\n",
      "RangeIndex: 25 entries, 0 to 24\n",
      "Data columns (total 2 columns):\n",
      " #   Column  Non-Null Count  Dtype  \n",
      "---  ------  --------------  -----  \n",
      " 0   Hours   25 non-null     float64\n",
      " 1   Scores  25 non-null     int64  \n",
      "dtypes: float64(1), int64(1)\n",
      "memory usage: 528.0 bytes\n"
     ]
    }
   ],
   "source": [
    "# checking data types of each column\n",
    "data.info()"
   ]
  },
  {
   "cell_type": "code",
   "execution_count": 5,
   "id": "atmospheric-traffic",
   "metadata": {},
   "outputs": [
    {
     "data": {
      "text/plain": [
       "Hours     False\n",
       "Scores    False\n",
       "dtype: bool"
      ]
     },
     "execution_count": 5,
     "metadata": {},
     "output_type": "execute_result"
    }
   ],
   "source": [
    "# checking for null values\n",
    "data.isna().any()"
   ]
  },
  {
   "cell_type": "code",
   "execution_count": 6,
   "id": "satisfied-stylus",
   "metadata": {},
   "outputs": [
    {
     "data": {
      "text/html": [
       "<div>\n",
       "<style scoped>\n",
       "    .dataframe tbody tr th:only-of-type {\n",
       "        vertical-align: middle;\n",
       "    }\n",
       "\n",
       "    .dataframe tbody tr th {\n",
       "        vertical-align: top;\n",
       "    }\n",
       "\n",
       "    .dataframe thead th {\n",
       "        text-align: right;\n",
       "    }\n",
       "</style>\n",
       "<table border=\"1\" class=\"dataframe\">\n",
       "  <thead>\n",
       "    <tr style=\"text-align: right;\">\n",
       "      <th></th>\n",
       "      <th>count</th>\n",
       "      <th>mean</th>\n",
       "      <th>std</th>\n",
       "      <th>min</th>\n",
       "      <th>25%</th>\n",
       "      <th>50%</th>\n",
       "      <th>75%</th>\n",
       "      <th>max</th>\n",
       "    </tr>\n",
       "  </thead>\n",
       "  <tbody>\n",
       "    <tr>\n",
       "      <th>Hours</th>\n",
       "      <td>25.0</td>\n",
       "      <td>5.012</td>\n",
       "      <td>2.525094</td>\n",
       "      <td>1.1</td>\n",
       "      <td>2.7</td>\n",
       "      <td>4.8</td>\n",
       "      <td>7.4</td>\n",
       "      <td>9.2</td>\n",
       "    </tr>\n",
       "    <tr>\n",
       "      <th>Scores</th>\n",
       "      <td>25.0</td>\n",
       "      <td>51.480</td>\n",
       "      <td>25.286887</td>\n",
       "      <td>17.0</td>\n",
       "      <td>30.0</td>\n",
       "      <td>47.0</td>\n",
       "      <td>75.0</td>\n",
       "      <td>95.0</td>\n",
       "    </tr>\n",
       "  </tbody>\n",
       "</table>\n",
       "</div>"
      ],
      "text/plain": [
       "        count    mean        std   min   25%   50%   75%   max\n",
       "Hours    25.0   5.012   2.525094   1.1   2.7   4.8   7.4   9.2\n",
       "Scores   25.0  51.480  25.286887  17.0  30.0  47.0  75.0  95.0"
      ]
     },
     "execution_count": 6,
     "metadata": {},
     "output_type": "execute_result"
    }
   ],
   "source": [
    "# some basic statistics on data\n",
    "data.describe().T"
   ]
  },
  {
   "cell_type": "code",
   "execution_count": 7,
   "id": "economic-assumption",
   "metadata": {},
   "outputs": [
    {
     "data": {
      "image/png": "[encoded data removed]",
      "text/plain": [
       "<Figure size 432x288 with 1 Axes>"
      ]
     },
     "metadata": {
      "needs_background": "light"
     },
     "output_type": "display_data"
    }
   ],
   "source": [
    "# checking outliers in feature column\n",
    "data.boxplot('Hours')\n",
    "plt.title('BoxPlot of Hours per day')\n",
    "plt.show()"
   ]
  },
  {
   "cell_type": "code",
   "execution_count": 8,
   "id": "finished-enough",
   "metadata": {},
   "outputs": [
    {
     "data": {
      "image/png": "[encoded data removed]",
      "text/plain": [
       "<Figure size 432x288 with 1 Axes>"
      ]
     },
     "metadata": {
      "needs_background": "light"
     },
     "output_type": "display_data"
    }
   ],
   "source": [
    "# checking for outliers in target column\n",
    "data.boxplot('Scores')\n",
    "plt.title('Percentage Scores')\n",
    "plt.show()"
   ]
  },
  {
   "cell_type": "markdown",
   "id": "precious-match",
   "metadata": {},
   "source": [
    "**Clearly, there are no outliers in both columns and no missing values.**"
   ]
  },
  {
   "cell_type": "markdown",
   "id": "acoustic-investment",
   "metadata": {},
   "source": [
    "## Observing relation between both columns"
   ]
  },
  {
   "cell_type": "code",
   "execution_count": 9,
   "id": "starting-sheep",
   "metadata": {},
   "outputs": [
    {
     "data": {
      "image/png": "[encoded data removed]",
      "text/plain": [
       "<Figure size 720x504 with 1 Axes>"
      ]
     },
     "metadata": {
      "needs_background": "light"
     },
     "output_type": "display_data"
    }
   ],
   "source": [
    "# plotting a scatter plot to get a clear picture\n",
    "plt.figure(figsize=(10,7))\n",
    "plt.scatter(x = \"Hours\", y = \"Scores\", data = data, marker=\"*\", c='red')\n",
    "plt.xlabel(\"Hours per day\", size=15)\n",
    "plt.ylabel(\"Percentage Scores\", size=15)\n",
    "plt.title(\"Number of Hours spent in Studying VS the Percentage Scored\", size=15)\n",
    "plt.xlim(0,10)\n",
    "plt.ylim(0,100)\n",
    "plt.xticks(np.arange(0,11,1))\n",
    "plt.yticks(np.arange(0,110,10))\n",
    "plt.show()"
   ]
  },
  {
   "cell_type": "markdown",
   "id": "drawn-denmark",
   "metadata": {},
   "source": [
    "***Clearly, there is almost a positive linear relationship between the number of Hours spend per day in studying and percentage of the students.***"
   ]
  },
  {
   "cell_type": "markdown",
   "id": "interim-weapon",
   "metadata": {},
   "source": [
    "### Classifying Target and Feature column from the data"
   ]
  },
  {
   "cell_type": "code",
   "execution_count": 10,
   "id": "equipped-thermal",
   "metadata": {},
   "outputs": [],
   "source": [
    "# target = y and features = X\n",
    "\n",
    "y = data[\"Scores\"]\n",
    "X = data.drop(columns = \"Scores\")"
   ]
  },
  {
   "cell_type": "code",
   "execution_count": 11,
   "id": "contrary-moscow",
   "metadata": {},
   "outputs": [],
   "source": [
    "# splitting of target and features for training and testing\n",
    "X_train, X_test, y_train, y_test = train_test_split(X, y, test_size = 0.2, random_state=35)"
   ]
  },
  {
   "cell_type": "markdown",
   "id": "following-blanket",
   "metadata": {},
   "source": [
    "# Training the model"
   ]
  },
  {
   "cell_type": "code",
   "execution_count": 12,
   "id": "olympic-wisdom",
   "metadata": {},
   "outputs": [],
   "source": [
    "# intializing the model instance\n",
    "np.random.seed(35)\n",
    "reg = LinearRegression()"
   ]
  },
  {
   "cell_type": "code",
   "execution_count": 13,
   "id": "ultimate-netherlands",
   "metadata": {},
   "outputs": [
    {
     "name": "stdout",
     "output_type": "stream",
     "text": [
      "Training Complete.\n"
     ]
    }
   ],
   "source": [
    "# fitting model with training set\n",
    "reg.fit(X_train, y_train)\n",
    "\n",
    "print(\"Training Complete.\")"
   ]
  },
  {
   "cell_type": "code",
   "execution_count": 14,
   "id": "grave-velvet",
   "metadata": {},
   "outputs": [
    {
     "name": "stdout",
     "output_type": "stream",
     "text": [
      "This model accuracy on training set is 96.31%.\n"
     ]
    }
   ],
   "source": [
    "print(f'This model accuracy on training set is {reg.score(X_train, y_train)*100:0.2f}%.')"
   ]
  },
  {
   "cell_type": "markdown",
   "id": "aggressive-hartford",
   "metadata": {},
   "source": [
    "### Plotting regression line"
   ]
  },
  {
   "cell_type": "code",
   "execution_count": 15,
   "id": "eligible-lover",
   "metadata": {},
   "outputs": [
    {
     "data": {
      "image/png": "[encoded data removed]",
      "text/plain": [
       "<Figure size 720x504 with 1 Axes>"
      ]
     },
     "metadata": {
      "needs_background": "light"
     },
     "output_type": "display_data"
    }
   ],
   "source": [
    "# regression line equation\n",
    "reg_line = reg.coef_[0]*data[\"Hours\"] + reg.intercept_\n",
    "\n",
    "# plotting regression line along with scatter plot\n",
    "plt.figure(figsize=(10,7))\n",
    "plt.plot(data[\"Hours\"], reg_line, \"b\", label=\"Regression Line\")\n",
    "plt.scatter(x = \"Hours\", y = \"Scores\", data = data, marker=\"x\", c='red', label = \"data\")\n",
    "plt.xlabel(\"Hours per day\", size=15)\n",
    "plt.ylabel(\"Percentage Scores\", size=15)\n",
    "plt.title(\"Number of Hours spent in Studying VS the Percentage Scored\", size=15)\n",
    "plt.xlim(0,10)\n",
    "plt.ylim(0,100)\n",
    "plt.xticks(np.arange(0,11,1))\n",
    "plt.yticks(np.arange(0,110,10))\n",
    "plt.legend()\n",
    "plt.show()"
   ]
  },
  {
   "cell_type": "markdown",
   "id": "annual-triumph",
   "metadata": {},
   "source": [
    "## Making Predictions\n",
    "Firstly, let's check the model prediction on the testing dataset and see by how much the predicted value differ from the original value."
   ]
  },
  {
   "cell_type": "code",
   "execution_count": 16,
   "id": "competitive-ukraine",
   "metadata": {},
   "outputs": [],
   "source": [
    "# prediction on testing dataset\n",
    "y_preds = reg.predict(X_test)"
   ]
  },
  {
   "cell_type": "code",
   "execution_count": 17,
   "id": "environmental-disco",
   "metadata": {},
   "outputs": [
    {
     "data": {
      "text/html": [
       "<div>\n",
       "<style scoped>\n",
       "    .dataframe tbody tr th:only-of-type {\n",
       "        vertical-align: middle;\n",
       "    }\n",
       "\n",
       "    .dataframe tbody tr th {\n",
       "        vertical-align: top;\n",
       "    }\n",
       "\n",
       "    .dataframe thead th {\n",
       "        text-align: right;\n",
       "    }\n",
       "</style>\n",
       "<table border=\"1\" class=\"dataframe\">\n",
       "  <thead>\n",
       "    <tr style=\"text-align: right;\">\n",
       "      <th></th>\n",
       "      <th>Actual Score</th>\n",
       "      <th>Predicted Score</th>\n",
       "      <th>Absolute Difference</th>\n",
       "    </tr>\n",
       "  </thead>\n",
       "  <tbody>\n",
       "    <tr>\n",
       "      <th>13</th>\n",
       "      <td>42</td>\n",
       "      <td>34.615536</td>\n",
       "      <td>7.384464</td>\n",
       "    </tr>\n",
       "    <tr>\n",
       "      <th>6</th>\n",
       "      <td>88</td>\n",
       "      <td>94.409942</td>\n",
       "      <td>6.409942</td>\n",
       "    </tr>\n",
       "    <tr>\n",
       "      <th>10</th>\n",
       "      <td>85</td>\n",
       "      <td>79.207975</td>\n",
       "      <td>5.792025</td>\n",
       "    </tr>\n",
       "    <tr>\n",
       "      <th>3</th>\n",
       "      <td>75</td>\n",
       "      <td>87.315691</td>\n",
       "      <td>12.315691</td>\n",
       "    </tr>\n",
       "    <tr>\n",
       "      <th>2</th>\n",
       "      <td>27</td>\n",
       "      <td>33.602072</td>\n",
       "      <td>6.602072</td>\n",
       "    </tr>\n",
       "  </tbody>\n",
       "</table>\n",
       "</div>"
      ],
      "text/plain": [
       "    Actual Score  Predicted Score  Absolute Difference\n",
       "13            42        34.615536             7.384464\n",
       "6             88        94.409942             6.409942\n",
       "10            85        79.207975             5.792025\n",
       "3             75        87.315691            12.315691\n",
       "2             27        33.602072             6.602072"
      ]
     },
     "execution_count": 17,
     "metadata": {},
     "output_type": "execute_result"
    }
   ],
   "source": [
    "# creating a dataframe report for testing dataset\n",
    "report = pd.DataFrame({'Actual Score' : y_test, 'Predicted Score' : y_preds})\n",
    "\n",
    "# percentage difference between actual and predicted value\n",
    "report['Absolute Difference'] = np.absolute(report['Actual Score']-report['Predicted Score'])\n",
    "report"
   ]
  },
  {
   "cell_type": "code",
   "execution_count": 18,
   "id": "official-battery",
   "metadata": {},
   "outputs": [
    {
     "name": "stdout",
     "output_type": "stream",
     "text": [
      "This model accuracy on testing data is 89.15%.\n"
     ]
    }
   ],
   "source": [
    "print(f'This model accuracy on testing data is {reg.score(X_test, y_test)*100:0.2f}%.')"
   ]
  },
  {
   "cell_type": "markdown",
   "id": "vanilla-contrast",
   "metadata": {},
   "source": [
    "# Predicting the required result\n",
    "What will be predicted score if a student studies for 9.25 hrs/day?"
   ]
  },
  {
   "cell_type": "code",
   "execution_count": 19,
   "id": "social-novel",
   "metadata": {},
   "outputs": [],
   "source": [
    "# reshaping the input value and predicting its value\n",
    "prediction = reg.predict(np.array(9.25).reshape((-1, 1)))"
   ]
  },
  {
   "cell_type": "code",
   "execution_count": 20,
   "id": "afraid-client",
   "metadata": {},
   "outputs": [
    {
     "name": "stdout",
     "output_type": "stream",
     "text": [
      "The prediction vlaue of percentage after studying for 9.25 hours a day is 94.92%.\n"
     ]
    }
   ],
   "source": [
    "print(f'The prediction vlaue of percentage after studying for 9.25 hours a day is {prediction[0]:0.2f}%.')"
   ]
  },
  {
   "cell_type": "markdown",
   "id": "better-workplace",
   "metadata": {},
   "source": [
    "# Evaluating the model's correctness\n",
    "The final step is to evaluate the performance of algorithm. This step is particularly important to compare how well different algorithms perform on a particular dataset. For simplicity here, we have chosen the  maximum error, mean absolute error and  mean square error."
   ]
  },
  {
   "cell_type": "code",
   "execution_count": 21,
   "id": "silent-religion",
   "metadata": {
    "scrolled": true
   },
   "outputs": [
    {
     "name": "stdout",
     "output_type": "stream",
     "text": [
      "Maximum Error : 12.32.\n",
      "Mean Absolute Error : 7.70\n",
      "Mean Squarred Error : 64.89\n"
     ]
    }
   ],
   "source": [
    "print(f'Maximum Error : {max_error(y_test,y_preds):0.2f}.')\n",
    "print(f'Mean Absolute Error : {mean_absolute_error(y_test,y_preds):0.2f}')\n",
    "print(f'Mean Squarred Error : {mean_squared_error(y_test,y_preds):0.2f}')"
   ]
  },
  {
   "cell_type": "markdown",
   "id": "negative-purse",
   "metadata": {},
   "source": [
    "# Thank You"
   ]
  }
 ],
 "metadata": {
  "kernelspec": {
   "display_name": "Python 3",
   "language": "python",
   "name": "python3"
  },
  "language_info": {
   "codemirror_mode": {
    "name": "ipython",
    "version": 3
   },
   "file_extension": ".py",
   "mimetype": "text/x-python",
   "name": "python",
   "nbconvert_exporter": "python",
   "pygments_lexer": "ipython3",
   "version": "3.9.2"
  }
 },
 "nbformat": 4,
 "nbformat_minor": 5
}
